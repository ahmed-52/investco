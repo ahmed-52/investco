{
 "cells": [
  {
   "cell_type": "markdown",
   "metadata": {},
   "source": [
    "# Kairo\n",
    "\n",
    "## Overview\n",
    "\n",
    "Kairo predicts if a stock is a good buy based on premarket rallies.\n",
    "\n",
    "## Objectives\n",
    "\n",
    "- Collect and preprocess premarket stock data.\n",
    "- Identify significant rallies.\n",
    "- Develop and evaluate a predictive model.\n",
    "\n",
    "## Steps\n",
    "\n",
    "1. **Data Collection**: Fetch premarket stock data via APIs.\n",
    "2. **Preprocessing**: Clean and normalize data.\n",
    "3. **Analysis**: Identify and analyze rallies.\n",
    "4. **Model Development**: Train and validate the model.\n",
    "5. **Evaluation**: Assess model performance and refine.\n",
    "\n",
    "## Conclusion\n",
    "\n",
    "Summarize findings and discuss improvements.\n",
    "\n",
    "## References\n",
    "\n",
    "List of resources used."
   ]
  },
  {
   "cell_type": "markdown",
   "metadata": {},
   "source": [
    "# Data Collection\n",
    "\n",
    "### We need some way to "
   ]
  },
  {
   "cell_type": "code",
   "execution_count": 7,
   "metadata": {},
   "outputs": [
    {
     "name": "stdout",
     "output_type": "stream",
     "text": [
      "[]\n",
      "[]\n"
     ]
    }
   ],
   "source": [
    "import requests\n",
    "from bs4 import BeautifulSoup\n",
    "\n",
    "# URL of the page\n",
    "url = \"https://www.barchart.com/stocks/pre-market-trading/percent-change/advances?orderBy=preMarketPercentChange&orderDir=desc&page=1\"\n",
    "\n",
    "# Headers to mimic a browser request\n",
    "headers = {\n",
    "    \"User-Agent\": \"Mozilla/5.0 (Windows NT 10.0; Win64; x64) AppleWebKit/537.36 (KHTML, like Gecko) Chrome/119.0.0.0 Safari/537.36\"\n",
    "}\n",
    "\n",
    "# Fetch the page\n",
    "response = requests.get(url, headers=headers)\n",
    "\n",
    "# Parse the content\n",
    "soup = BeautifulSoup(response.text, \"html.parser\")\n",
    "with open(\"page_source.txt\", \"w\", encoding=\"utf-8\") as file:\n",
    "    file.write(soup.prettify())\n",
    "\n",
    "# Find all rows\n",
    "rows = soup.find_all(\"set-class\", class_=\"row _grid_columns\")\n",
    "print(rows)\n",
    "\n",
    "# Extract stock data\n",
    "stocks = []\n",
    "for row in rows:\n",
    "    try:\n",
    "        # Extract ticker\n",
    "        ticker_element = row.find(\"div\", class_=\"_cell symbol\")\n",
    "        if not ticker_element:\n",
    "            continue\n",
    "        ticker = ticker_element.text.strip()\n",
    "\n",
    "        # Extract price\n",
    "        price_element = row.find(\"div\", class_=\"_cell _align_right preMarketLastPrice\")\n",
    "        if not price_element:\n",
    "            continue\n",
    "        price = float(price_element.text.strip().replace(\",\", \"\"))\n",
    "\n",
    "        # Extract percent change (assuming it's another column)\n",
    "        change_element = row.find(\"div\", class_=\"_cell _align_right preMarketChange\")\n",
    "        if not change_element:\n",
    "            continue\n",
    "        price_change = change_element.text.strip()\n",
    "\n",
    "        # Filter out penny stocks (price < 5)\n",
    "        if price >= 5:\n",
    "            stocks.append({\"ticker\": ticker, \"price\": price, \"price_change\": price_change})\n",
    "\n",
    "    except Exception as e:\n",
    "        print(f\"Error processing row: {e}\")\n",
    "\n",
    "# Print the result\n",
    "print(stocks)\n"
   ]
  },
  {
   "cell_type": "code",
   "execution_count": null,
   "metadata": {},
   "outputs": [],
   "source": []
  },
  {
   "cell_type": "code",
   "execution_count": null,
   "metadata": {},
   "outputs": [],
   "source": []
  }
 ],
 "metadata": {
  "kernelspec": {
   "display_name": "base",
   "language": "python",
   "name": "python3"
  },
  "language_info": {
   "codemirror_mode": {
    "name": "ipython",
    "version": 3
   },
   "file_extension": ".py",
   "mimetype": "text/x-python",
   "name": "python",
   "nbconvert_exporter": "python",
   "pygments_lexer": "ipython3",
   "version": "3.11.4"
  }
 },
 "nbformat": 4,
 "nbformat_minor": 2
}
