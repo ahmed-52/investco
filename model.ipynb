{
 "cells": [
  {
   "cell_type": "code",
   "execution_count": 1,
   "metadata": {},
   "outputs": [
    {
     "name": "stdout",
     "output_type": "stream",
     "text": [
      "Account status: ACTIVE\n",
      "Equity: $99775.12\n",
      "Buying Power: $189404.97\n"
     ]
    }
   ],
   "source": [
    "import os\n",
    "from dotenv import load_dotenv\n",
    "import alpaca_trade_api as tradeapi\n",
    "\n",
    "\n",
    "# Load the environment variables\n",
    "load_dotenv()\n",
    "\n",
    "ALPACA_API_KEY = os.getenv(\"ALPACA_API_KEY\")\n",
    "ALPACA_SECRET_KEY = os.getenv(\"ALPACA_SECRET_KEY\")\n",
    "ALPACA_BASE_URL = os.getenv(\"ALPACA_BASE_URL\")\n",
    "\n",
    "\n",
    "api = tradeapi.REST(ALPACA_API_KEY, ALPACA_SECRET_KEY, ALPACA_BASE_URL)\n",
    "\n",
    "\n",
    "try:\n",
    "    account = api.get_account()\n",
    "    print(f\"Account status: {account.status}\")\n",
    "    print(f\"Equity: ${account.equity}\")\n",
    "    print(f\"Buying Power: ${account.buying_power}\")\n",
    "except Exception as e:\n",
    "    print(f\"Error connecting to Alpaca: {e}\")"
   ]
  }
 ],
 "metadata": {
  "kernelspec": {
   "display_name": "kairo",
   "language": "python",
   "name": "python3"
  },
  "language_info": {
   "codemirror_mode": {
    "name": "ipython",
    "version": 3
   },
   "file_extension": ".py",
   "mimetype": "text/x-python",
   "name": "python",
   "nbconvert_exporter": "python",
   "pygments_lexer": "ipython3",
   "version": "3.13.1"
  }
 },
 "nbformat": 4,
 "nbformat_minor": 2
}
